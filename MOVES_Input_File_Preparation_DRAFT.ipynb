{
 "cells": [
  {
   "cell_type": "markdown",
   "metadata": {},
   "source": [
    "# MOVES Input Creation"
   ]
  },
  {
   "cell_type": "markdown",
   "metadata": {},
   "source": [
    "This notebook is intended for use in preparing input files for the Motor Vehicle Emission Simulator (MOVES) model. Required input files for this notbook come from the Travel Demand Model (TDM), the Utah Department of Air Quality (DAQ), the Utah Department of Motor Vehicles (DMV). "
   ]
  },
  {
   "cell_type": "markdown",
   "metadata": {},
   "source": [
    "# Step 1: Define Parameters"
   ]
  },
  {
   "cell_type": "markdown",
   "metadata": {},
   "source": [
    "## Set user-defined parameters"
   ]
  },
  {
   "cell_type": "code",
   "execution_count": 2,
   "metadata": {},
   "outputs": [],
   "source": [
    "# modeled year\n",
    "# QUESTION: SHOLD I MAKE THIS A LIST INSTEAD? \n",
    "year = 2050\n"
   ]
  },
  {
   "cell_type": "markdown",
   "metadata": {},
   "source": [
    "## Import libraries"
   ]
  },
  {
   "cell_type": "code",
   "execution_count": 3,
   "metadata": {},
   "outputs": [
    {
     "name": "stdout",
     "output_type": "stream",
     "text": [
      "There's a new jupysql version available (0.10.10), you're running 0.10.9. To upgrade: pip install jupysql --upgrade\n",
      "Deploy Dash apps for free on Ploomber Cloud! Learn more: https://ploomber.io/s/signup\n"
     ]
    }
   ],
   "source": [
    "#Import all relevant libraries\n",
    "#Need to install ipython-sql for this to work\n",
    "import pandas as pd\n",
    "import os\n",
    "import geopandas as gpd\n",
    "import numpy as np\n",
    "import pathlib\n",
    "import matplotlib\n",
    "from sqlalchemy.engine import create_engine\n",
    "import sqlite3\n",
    "from pandas.io import sql\n",
    "import subprocess\n",
    "%load_ext sql\n",
    "\n",
    "pd.options.mode.copy_on_write = True"
   ]
  },
  {
   "cell_type": "markdown",
   "metadata": {},
   "source": [
    "# Step 2: Read in and view file inputs"
   ]
  },
  {
   "cell_type": "markdown",
   "metadata": {},
   "source": [
    "## List input files"
   ]
  },
  {
   "cell_type": "code",
   "execution_count": 8,
   "metadata": {},
   "outputs": [],
   "source": [
    "# Get current working directory\n",
    "input_dir = pathlib.Path(os.getcwd(),'Input')\n",
    "\n",
    "# List input file names for:\n",
    "    #TDM, Vehicle mix (DAQ), HPMS Factors, RoadType, SourceType Population, Counties, \n",
    "tdm_name = 'TDM_SummarywithFactors2050_v2.csv'\n",
    "mix_name = \"mix_2023.csv\"\n",
    "hpms_name = \"hpms_factor_2019.csv\"\n",
    "road_name = 'road.csv'\n",
    "source_type_pop_name = 'sourcetypepopulation_2022_4.csv'\n",
    "county_name = 'county.csv'\n",
    "\n",
    "\n",
    "#Create filepaths\n",
    "mix_path = pathlib.Path(input_dir,mix_name)\n",
    "hpms_path = pathlib.Path(input_dir,hpms_name)\n",
    "road_path = pathlib.Path(input_dir,road_name)\n",
    "source_type_pop_path = pathlib.Path(input_dir,source_type_pop_name)\n",
    "county_filepath = pathlib.Path(input_dir,county_name)\n",
    "\n",
    "#Create dataframes\n",
    "\n",
    "mix_df = pd.read_csv(mix_path)\n",
    "hpms_df = pd.read_csv(hpms_path)\n",
    "road_df = pd.read_csv(road_path)\n",
    "source_type_pop_df = pd.read_csv(source_type_pop_path)\n",
    "county_df = pd.read_csv(county_filepath)\n"
   ]
  },
  {
   "cell_type": "markdown",
   "metadata": {},
   "source": [
    "## Visualize Input Files"
   ]
  },
  {
   "cell_type": "code",
   "execution_count": null,
   "metadata": {},
   "outputs": [],
   "source": []
  }
 ],
 "metadata": {
  "kernelspec": {
   "display_name": "base",
   "language": "python",
   "name": "python3"
  },
  "language_info": {
   "codemirror_mode": {
    "name": "ipython",
    "version": 3
   },
   "file_extension": ".py",
   "mimetype": "text/x-python",
   "name": "python",
   "nbconvert_exporter": "python",
   "pygments_lexer": "ipython3",
   "version": "3.12.3"
  }
 },
 "nbformat": 4,
 "nbformat_minor": 2
}
